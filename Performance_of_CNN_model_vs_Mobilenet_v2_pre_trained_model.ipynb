{
  "cells": [
    {
      "cell_type": "markdown",
      "metadata": {
        "id": "E9WEvtkoNMYP"
      },
      "source": [
        "# Performance Comparison of CNN model vs. Mobilenet_v2 pre-trained model\n",
        "\n",
        "Problem/Main Objective: It takes time and resources to build a model from ground up. Therefore, implementing transfer learning by using a pretrained model to predict target outcomes can be better suited. In this project, a CNN model will be built and trained using Cifar10 dataset from ground up. Also, the pretrained model, Mobilenet_v2, will be used on Cifar10 dataset. The performances of each model will be computed and compared. The main objective of this project is to understand how performance differs among a model that is built from ground up vs. a pretrained model.\n",
        "\n",
        "Dataset Used: The dataset used consists of images of 10 classes, including airplane, automobile, bird, cat, deer, dog, frog, horse, ship, and truck. The data is composed of 60000 images, 50000 for training and 10000 for testing. The images are 32x32x3 pixels. Data can be loaded direclty from Tensorflow or using the link: https://www.cs.toronto.edu/~kriz/cifar.html\n",
        "\n",
        "Summary/Methods: The data is divided into train and test samples. The shape of the images in the data are analyzed to confirm the correct shape and size. The unique values of the target variable is checked to confirm their correspondence to each correct class. One hot encoding is used to convert unique values of the target to binary class matrix and feature variables are divided by 255 to normalize the data."
      ]
    },
    {
      "cell_type": "code",
      "execution_count": 1,
      "metadata": {
        "id": "I6uHqzFAQz-D"
      },
      "outputs": [],
      "source": [
        "#Importing Libraries \n",
        "import pandas as pd\n",
        "import numpy as np\n",
        "import matplotlib.pyplot as plt\n",
        "from matplotlib import image\n",
        "import seaborn as sns\n",
        "\n",
        "from tensorflow.keras.utils import to_categorical\n",
        "from tensorflow.keras.models import Sequential\n",
        "from tensorflow.keras.layers import Dense, Dropout, Conv2D, MaxPooling2D, Flatten, Activation\n",
        "from tensorflow.keras import optimizers\n",
        "import tensorflow as tf\n",
        "import cv2 #to resize the data\n",
        "\n",
        "import datetime\n",
        "now = datetime.datetime.now"
      ]
    },
    {
      "cell_type": "code",
      "execution_count": 2,
      "metadata": {
        "id": "qPJ0WUvQE6y3"
      },
      "outputs": [],
      "source": [
        "#Ignore warnings\n",
        "import warnings\n",
        "warnings.filterwarnings(\"ignore\")"
      ]
    },
    {
      "cell_type": "code",
      "execution_count": 3,
      "metadata": {
        "id": "vmo0Jr1MI8ya"
      },
      "outputs": [],
      "source": [
        "#Importing the cifar10 datset and dividing into train and test models.\n",
        "(X_train, y_train), (X_test, y_test) = tf.keras.datasets.cifar10.load_data()"
      ]
    },
    {
      "cell_type": "markdown",
      "metadata": {
        "id": "LAQaItdTKr8m"
      },
      "source": [
        "## Exploring the data and preprocessing"
      ]
    },
    {
      "cell_type": "code",
      "execution_count": 4,
      "metadata": {
        "colab": {
          "base_uri": "https://localhost:8080/"
        },
        "id": "Ls0FSbvYJA-F",
        "outputId": "d36ec9e9-0d4d-4eb0-e225-7a6c8d707be1"
      },
      "outputs": [
        {
          "output_type": "stream",
          "name": "stdout",
          "text": [
            "X_train shape:  (50000, 32, 32, 3)\n",
            "X_test shape:  (10000, 32, 32, 3)\n",
            "\n",
            "y_train shape:  (50000, 1)\n",
            "y_test shape:  (10000, 1)\n"
          ]
        }
      ],
      "source": [
        "#Get the shapes of each test and train data.\n",
        "print(\"X_train shape: \",X_train.shape)\n",
        "print(\"X_test shape: \",X_test.shape)\n",
        "print(\"\\ny_train shape: \",y_train.shape)\n",
        "print(\"y_test shape: \",y_test.shape)"
      ]
    },
    {
      "cell_type": "code",
      "source": [
        "#Decrease the dataset to work with due to insufficient processing power and space (RAM)\n",
        "#Get the first 10000 rows for training and 2000 for testing\n",
        "X_train=X_train[:10000]\n",
        "X_test=X_test[:2000]\n",
        "\n",
        "y_train=y_train[:10000] \n",
        "y_test=y_test[:2000]"
      ],
      "metadata": {
        "id": "m6kmp4jsH54B"
      },
      "execution_count": 5,
      "outputs": []
    },
    {
      "cell_type": "markdown",
      "metadata": {
        "id": "IGnUA1LiW5rJ"
      },
      "source": [
        "Target variable has values from 0 to 9, corresponding to classes: 'airplane', 'automobile', 'bird', 'cat', 'deer', 'dog', 'frog', 'horse', 'ship', 'truck', respectively.\n",
        "\n"
      ]
    },
    {
      "cell_type": "code",
      "execution_count": 6,
      "metadata": {
        "id": "RD8uIfZ2Bs1z"
      },
      "outputs": [],
      "source": [
        "#Create an array that holds each class name\n",
        "class_names=['airplane', 'automobile', 'bird', 'cat', 'deer', 'dog', 'frog', 'horse', 'ship', 'truck']"
      ]
    },
    {
      "cell_type": "code",
      "source": [
        "#Checking the frequency of classes in each target train and test data\n",
        "unique, counts=np.unique(y_train, return_counts=True)\n",
        "print(\"y_train class frequencies\")\n",
        "print(np.asarray((unique, counts)).T)"
      ],
      "metadata": {
        "colab": {
          "base_uri": "https://localhost:8080/"
        },
        "id": "P5ToOnpv9lPs",
        "outputId": "097d68f1-4d50-4271-9b7a-4f2619450436"
      },
      "execution_count": 7,
      "outputs": [
        {
          "output_type": "stream",
          "name": "stdout",
          "text": [
            "y_train class frequencies\n",
            "[[   0 1005]\n",
            " [   1  974]\n",
            " [   2 1032]\n",
            " [   3 1016]\n",
            " [   4  999]\n",
            " [   5  937]\n",
            " [   6 1030]\n",
            " [   7 1001]\n",
            " [   8 1025]\n",
            " [   9  981]]\n"
          ]
        }
      ]
    },
    {
      "cell_type": "code",
      "source": [
        "unique, counts=np.unique(y_test, return_counts=True)\n",
        "print(\"y_test class frequencies\")\n",
        "print(np.asarray((unique, counts)).T)"
      ],
      "metadata": {
        "colab": {
          "base_uri": "https://localhost:8080/"
        },
        "id": "BQw-3YMH9MY0",
        "outputId": "076615ac-f408-4644-980b-f4cde0c53392"
      },
      "execution_count": 8,
      "outputs": [
        {
          "output_type": "stream",
          "name": "stdout",
          "text": [
            "y_test class frequencies\n",
            "[[  0 196]\n",
            " [  1 198]\n",
            " [  2 195]\n",
            " [  3 199]\n",
            " [  4 198]\n",
            " [  5 185]\n",
            " [  6 216]\n",
            " [  7 193]\n",
            " [  8 217]\n",
            " [  9 203]]\n"
          ]
        }
      ]
    },
    {
      "cell_type": "markdown",
      "source": [
        "The frequencies between each class in both train and test sets differ, however, differences is not more than 5% on train set and 8% on test set. This should not have a significant affect on the models performance."
      ],
      "metadata": {
        "id": "RT_pOWzRBNLB"
      }
    },
    {
      "cell_type": "code",
      "execution_count": 9,
      "metadata": {
        "id": "J3vav0UUJ3eM"
      },
      "outputs": [],
      "source": [
        "#Lets prepare the dataset. There are 10 classes in total.\n",
        "n_classes=10\n",
        "\n",
        "#Convert the vectors to binary class matrix (one hot encoding)\n",
        "y_train=to_categorical(y_train, n_classes)\n",
        "y_test=to_categorical(y_test, n_classes)"
      ]
    },
    {
      "cell_type": "code",
      "execution_count": 10,
      "metadata": {
        "colab": {
          "base_uri": "https://localhost:8080/"
        },
        "id": "PfiA4-er7MEe",
        "outputId": "93f54aa9-a21f-424f-b680-6f0e25623a78"
      },
      "outputs": [
        {
          "output_type": "stream",
          "name": "stdout",
          "text": [
            "y_train shape:  (10000, 10)\n",
            "y_test shape:  (2000, 10)\n"
          ]
        }
      ],
      "source": [
        "#Confirm the shape of the target variables\n",
        "print(\"y_train shape: \",y_train.shape)\n",
        "print(\"y_test shape: \",y_test.shape)"
      ]
    },
    {
      "cell_type": "code",
      "execution_count": 11,
      "metadata": {
        "id": "4e0nuwAJLmg_"
      },
      "outputs": [],
      "source": [
        "#Set feature variables as float\n",
        "X_train=X_train.astype(\"float32\")\n",
        "X_test=X_test.astype(\"float32\")"
      ]
    },
    {
      "cell_type": "code",
      "execution_count": 12,
      "metadata": {
        "id": "Q7RTOPahOnU7"
      },
      "outputs": [],
      "source": [
        "#Normalize the data. Make sure the end values are between 0 and 1 to to feed into CNN.\n",
        "X_train/=255\n",
        "X_test/=255"
      ]
    },
    {
      "cell_type": "code",
      "source": [
        "#Confirming if data is normalized.\n",
        "X_train[1,1,1]"
      ],
      "metadata": {
        "colab": {
          "base_uri": "https://localhost:8080/"
        },
        "id": "rLTWf8onSQ3C",
        "outputId": "b5cd7346-ef4e-4547-ebb0-a37c641c0690"
      },
      "execution_count": 13,
      "outputs": [
        {
          "output_type": "execute_result",
          "data": {
            "text/plain": [
              "array([0.5686275, 0.6      , 0.6039216], dtype=float32)"
            ]
          },
          "metadata": {},
          "execution_count": 13
        }
      ]
    },
    {
      "cell_type": "code",
      "execution_count": 14,
      "metadata": {
        "colab": {
          "base_uri": "https://localhost:8080/",
          "height": 256
        },
        "id": "ZEfqMQl9EHfe",
        "outputId": "e2d74d22-4276-4b49-fa81-6fb3738d3c26"
      },
      "outputs": [
        {
          "output_type": "display_data",
          "data": {
            "text/plain": [
              "<Figure size 1440x360 with 5 Axes>"
            ],
            "image/png": "[encoded data removed]"
          },
          "metadata": {
            "needs_background": "light"
          }
        }
      ],
      "source": [
        "#Print first 5 image examples.\n",
        "plt.figure(figsize=(20,5))\n",
        "for image in range(5):\n",
        "  plt.subplot(1,5,image+1)\n",
        "  plt.imshow(X_train[image])\n",
        "  plt.title(class_names[np.argmax(y_train[image])])\n",
        "plt.show()"
      ]
    },
    {
      "cell_type": "markdown",
      "source": [
        "# Building Models"
      ],
      "metadata": {
        "id": "bSyXF8n9fQ2G"
      }
    },
    {
      "cell_type": "code",
      "source": [
        "from IPython.core.pylabtools import figsize\n",
        "# Function to evaluate models\n",
        "model_acc=[]\n",
        "def eval(model, X_train, X_test, y_train, y_test, epoch):\n",
        "  opt=optimizers.Adam(lr=0.0005, decay=1e-6) #Using adam optimizer with learning rate 0.0005\n",
        "  model.compile(optimizer=opt,loss='categorical_crossentropy', metrics=['accuracy'])\n",
        "  \n",
        "  t=now() #Using to calculte time it takes to train the model\n",
        "  hist=model.fit(X_train, y_train, batch_size=32, epochs=epoch, validation_data=(X_test, y_test),verbose=1, shuffle=True)\n",
        "  score=model.evaluate(X_test, y_test, verbose=0)\n",
        "  print(\"Loss: \",score[0])\n",
        "  print(\"Accuracy: \",score[1])\n",
        "  print('Training time: %s' % (now() - t))\n",
        "  model_acc.append(score[1])\n",
        "  return hist\n",
        "\n",
        "# Function to Visualize the performance of the model\n",
        "def vis(model_hist):\n",
        "  plt.figure(figsize=(10,5))\n",
        " \n",
        "  #Plotting loss\n",
        "  plt.subplot(1,2,1)\n",
        "  plt.plot(model_hist.history[\"loss\"],'r', marker='.', label=\"Train Loss\")\n",
        "  plt.plot(model_hist.history[\"val_loss\"],'b', marker='.', label=\"Validation Loss\")\n",
        "  plt.title(\"Loss\")\n",
        "  plt.xlabel(\"Epochs\")\n",
        "  plt.legend()\n",
        "\n",
        "  #Plotting accuracy\n",
        "  plt.subplot(1,2,2)\n",
        "  plt.plot(model_hist.history[\"accuracy\"],'r', marker='.', label=\"Train Accuracy\")\n",
        "  plt.plot(model_hist.history[\"val_accuracy\"],'b', marker='.', label=\"Validation Accuracy\")\n",
        "  plt.title(\"Accuracy\")\n",
        "  plt.xlabel(\"Epochs\")\n",
        "  plt.legend()\n"
      ],
      "metadata": {
        "id": "2GPxUUO9fNun"
      },
      "execution_count": 15,
      "outputs": []
    },
    {
      "cell_type": "markdown",
      "metadata": {
        "id": "TqHIWntVRWsQ"
      },
      "source": [
        "## Model 1: Basic CNN Model\n",
        "Model 1 purpose is to asses how a basic cnn model will perform to examine how it can be improved.\n",
        "\n",
        "Model contains following layers: Conv2D>Maxpooling2D>Flatten>Dense"
      ]
    },
    {
      "cell_type": "code",
      "source": [
        "#Set hyperparameters\n",
        "filter=32\n",
        "kernel=(3,3)\n",
        "input_dim=(32,32,3) \n",
        "\n",
        "#Set Conv Layers\n",
        "conv_layers=[\n",
        "    Conv2D(filters=filter, kernel_size=kernel, padding='same', input_shape=input_dim),\n",
        "    Activation('relu'),\n",
        "    MaxPooling2D(),\n",
        "    Flatten()\n",
        "]\n",
        "\n",
        "#Set classification layers\n",
        "class_layers=[\n",
        "    Dense(128, activation='relu'),\n",
        "    Dense(n_classes, activation='softmax')#Final output is 10 because we have 10 classes.\n",
        "]"
      ],
      "metadata": {
        "id": "EcihFHyVV1kB"
      },
      "execution_count": 16,
      "outputs": []
    },
    {
      "cell_type": "code",
      "source": [
        "#Combine the layers\n",
        "model_1=Sequential(conv_layers+class_layers)\n",
        "model_1.summary()"
      ],
      "metadata": {
        "colab": {
          "base_uri": "https://localhost:8080/"
        },
        "id": "XStXDem-iSwR",
        "outputId": "05113804-c77c-4ad0-fca2-aae58b09c616"
      },
      "execution_count": 17,
      "outputs": [
        {
          "output_type": "stream",
          "name": "stdout",
          "text": [
            "Model: \"sequential\"\n",
            "_________________________________________________________________\n",
            " Layer (type)                Output Shape              Param #   \n",
            "=================================================================\n",
            " conv2d (Conv2D)             (None, 32, 32, 32)        896       \n",
            "                                                                 \n",
            " activation (Activation)     (None, 32, 32, 32)        0         \n",
            "                                                                 \n",
            " max_pooling2d (MaxPooling2D  (None, 16, 16, 32)       0         \n",
            " )                                                               \n",
            "                                                                 \n",
            " flatten (Flatten)           (None, 8192)              0         \n",
            "                                                                 \n",
            " dense (Dense)               (None, 128)               1048704   \n",
            "                                                                 \n",
            " dense_1 (Dense)             (None, 10)                1290      \n",
            "                                                                 \n",
            "=================================================================\n",
            "Total params: 1,050,890\n",
            "Trainable params: 1,050,890\n",
            "Non-trainable params: 0\n",
            "_________________________________________________________________\n"
          ]
        }
      ]
    },
    {
      "cell_type": "code",
      "execution_count": 18,
      "metadata": {
        "colab": {
          "base_uri": "https://localhost:8080/"
        },
        "id": "_LyM6He2E-30",
        "outputId": "d59b50ab-6c1a-4fe6-f887-2c1a58bf26cc"
      },
      "outputs": [
        {
          "output_type": "stream",
          "name": "stdout",
          "text": [
            "Epoch 1/20\n",
            "313/313 [==============================] - 5s 6ms/step - loss: 1.8808 - accuracy: 0.3270 - val_loss: 1.6698 - val_accuracy: 0.4200\n",
            "Epoch 2/20\n",
            "313/313 [==============================] - 1s 4ms/step - loss: 1.5473 - accuracy: 0.4532 - val_loss: 1.5623 - val_accuracy: 0.4325\n",
            "Epoch 3/20\n",
            "313/313 [==============================] - 1s 4ms/step - loss: 1.3948 - accuracy: 0.5103 - val_loss: 1.4130 - val_accuracy: 0.4990\n",
            "Epoch 4/20\n",
            "313/313 [==============================] - 1s 4ms/step - loss: 1.2770 - accuracy: 0.5528 - val_loss: 1.3625 - val_accuracy: 0.5020\n",
            "Epoch 5/20\n",
            "313/313 [==============================] - 1s 4ms/step - loss: 1.1918 - accuracy: 0.5830 - val_loss: 1.3432 - val_accuracy: 0.5310\n",
            "Epoch 6/20\n",
            "313/313 [==============================] - 1s 4ms/step - loss: 1.1133 - accuracy: 0.6107 - val_loss: 1.2939 - val_accuracy: 0.5375\n",
            "Epoch 7/20\n",
            "313/313 [==============================] - 1s 4ms/step - loss: 1.0507 - accuracy: 0.6300 - val_loss: 1.2479 - val_accuracy: 0.5580\n",
            "Epoch 8/20\n",
            "313/313 [==============================] - 1s 4ms/step - loss: 0.9913 - accuracy: 0.6510 - val_loss: 1.2555 - val_accuracy: 0.5535\n",
            "Epoch 9/20\n",
            "313/313 [==============================] - 1s 4ms/step - loss: 0.9328 - accuracy: 0.6751 - val_loss: 1.2321 - val_accuracy: 0.5615\n",
            "Epoch 10/20\n",
            "313/313 [==============================] - 1s 4ms/step - loss: 0.8802 - accuracy: 0.6911 - val_loss: 1.2416 - val_accuracy: 0.5645\n",
            "Epoch 11/20\n",
            "313/313 [==============================] - 1s 4ms/step - loss: 0.8287 - accuracy: 0.7143 - val_loss: 1.2427 - val_accuracy: 0.5735\n",
            "Epoch 12/20\n",
            "313/313 [==============================] - 1s 4ms/step - loss: 0.7890 - accuracy: 0.7296 - val_loss: 1.2442 - val_accuracy: 0.5640\n",
            "Epoch 13/20\n",
            "313/313 [==============================] - 1s 4ms/step - loss: 0.7400 - accuracy: 0.7421 - val_loss: 1.2566 - val_accuracy: 0.5745\n",
            "Epoch 14/20\n",
            "313/313 [==============================] - 1s 4ms/step - loss: 0.7084 - accuracy: 0.7598 - val_loss: 1.2440 - val_accuracy: 0.5700\n",
            "Epoch 15/20\n",
            "313/313 [==============================] - 1s 4ms/step - loss: 0.6622 - accuracy: 0.7755 - val_loss: 1.2632 - val_accuracy: 0.5790\n",
            "Epoch 16/20\n",
            "313/313 [==============================] - 1s 4ms/step - loss: 0.6229 - accuracy: 0.7924 - val_loss: 1.2982 - val_accuracy: 0.5770\n",
            "Epoch 17/20\n",
            "313/313 [==============================] - 1s 4ms/step - loss: 0.5867 - accuracy: 0.8054 - val_loss: 1.3228 - val_accuracy: 0.5710\n",
            "Epoch 18/20\n",
            "313/313 [==============================] - 1s 4ms/step - loss: 0.5346 - accuracy: 0.8260 - val_loss: 1.3081 - val_accuracy: 0.5895\n",
            "Epoch 19/20\n",
            "313/313 [==============================] - 1s 4ms/step - loss: 0.4975 - accuracy: 0.8423 - val_loss: 1.3410 - val_accuracy: 0.5730\n",
            "Epoch 20/20\n",
            "313/313 [==============================] - 1s 4ms/step - loss: 0.4619 - accuracy: 0.8563 - val_loss: 1.3367 - val_accuracy: 0.5800\n",
            "Loss:  1.3367294073104858\n",
            "Accuracy:  0.5799999833106995\n",
            "Training time: 0:00:29.415056\n"
          ]
        }
      ],
      "source": [
        "1#Evaluate Model_1\n",
        "\n",
        "#Run the model with 20 epochs to examine change of performance with each epoch.\n",
        "hist_model_1=eval(model_1, X_train, X_test, y_train, y_test, epoch=20) "
      ]
    },
    {
      "cell_type": "code",
      "source": [
        "#Visualize the model_1 performance\n",
        "vis(hist_model_1)"
      ],
      "metadata": {
        "colab": {
          "base_uri": "https://localhost:8080/",
          "height": 350
        },
        "id": "DNmp-hiXtq0u",
        "outputId": "60d32eae-82c1-4ca4-f5c8-1b95d4f24a80"
      },
      "execution_count": 19,
      "outputs": [
        {
          "output_type": "display_data",
          "data": {
            "text/plain": [
              "<Figure size 720x360 with 2 Axes>"
            ],
            "image/png": "[encoded data removed]"
          },
          "metadata": {
            "needs_background": "light"
          }
        }
      ]
    },
    {
      "cell_type": "markdown",
      "source": [
        "Model 1 takes 36 seconds to run with 20 epochs. After around 5 epochs, both loss and accuracy deviate from train and validation sets. Also, the model overfits where final train accuracy is much higher than and validation accuracy.\n"
      ],
      "metadata": {
        "id": "HSueRZS21lgM"
      }
    },
    {
      "cell_type": "markdown",
      "source": [
        "## Model 2 - Increasing Complexity\n",
        "The purpose of Model 2 is to show the perfomance of the model with increase in complexity.\n",
        "\n",
        "Model 2 consists of Conv2D->Conv2D->Maxpooling2D->Conv2D->Maxpooling2d->Flatten->Dense"
      ],
      "metadata": {
        "id": "PXnwYz-f1pDQ"
      }
    },
    {
      "cell_type": "code",
      "source": [
        "#Building Model 2\n",
        "\n",
        "#Add Conv Layers\n",
        "conv_layers2=[\n",
        "  Conv2D(filters=filter,kernel_size=kernel, padding='same',\n",
        "                 input_shape=input_dim),\n",
        "  Activation('relu'),\n",
        "\n",
        "  Conv2D(filters=filter,kernel_size=kernel),\n",
        "  Activation('relu'),\n",
        "  MaxPooling2D(),\n",
        "\n",
        "  Conv2D(64,kernel_size=kernel),  Activation('relu'),\n",
        "  MaxPooling2D(),\n",
        "  Flatten(),\n",
        "  ]\n",
        "\n",
        "#Set classification layers\n",
        "class_layers2=[\n",
        "    Dense(512, activation='relu'),\n",
        "    Dense(128, activation='relu'),\n",
        "    Dense(10, activation='softmax') #Final output is 10 because we have 10 classes.   \n",
        "]"
      ],
      "metadata": {
        "id": "QgTHsf1R1opf"
      },
      "execution_count": 20,
      "outputs": []
    },
    {
      "cell_type": "code",
      "source": [
        "#Analyzing model 2 layers and parameters\n",
        "model_2=Sequential(conv_layers2+class_layers2)\n",
        "model_2.summary()"
      ],
      "metadata": {
        "colab": {
          "base_uri": "https://localhost:8080/"
        },
        "id": "Oc0A5KTg6HHp",
        "outputId": "26e48361-5857-4f01-c85a-68f8277ce1f8"
      },
      "execution_count": 21,
      "outputs": [
        {
          "output_type": "stream",
          "name": "stdout",
          "text": [
            "Model: \"sequential_1\"\n",
            "_________________________________________________________________\n",
            " Layer (type)                Output Shape              Param #   \n",
            "=================================================================\n",
            " conv2d_1 (Conv2D)           (None, 32, 32, 32)        896       \n",
            "                                                                 \n",
            " activation_1 (Activation)   (None, 32, 32, 32)        0         \n",
            "                                                                 \n",
            " conv2d_2 (Conv2D)           (None, 30, 30, 32)        9248      \n",
            "                                                                 \n",
            " activation_2 (Activation)   (None, 30, 30, 32)        0         \n",
            "                                                                 \n",
            " max_pooling2d_1 (MaxPooling  (None, 15, 15, 32)       0         \n",
            " 2D)                                                             \n",
            "                                                                 \n",
            " conv2d_3 (Conv2D)           (None, 13, 13, 64)        18496     \n",
            "                                                                 \n",
            " activation_3 (Activation)   (None, 13, 13, 64)        0         \n",
            "                                                                 \n",
            " max_pooling2d_2 (MaxPooling  (None, 6, 6, 64)         0         \n",
            " 2D)                                                             \n",
            "                                                                 \n",
            " flatten_1 (Flatten)         (None, 2304)              0         \n",
            "                                                                 \n",
            " dense_2 (Dense)             (None, 512)               1180160   \n",
            "                                                                 \n",
            " dense_3 (Dense)             (None, 128)               65664     \n",
            "                                                                 \n",
            " dense_4 (Dense)             (None, 10)                1290      \n",
            "                                                                 \n",
            "=================================================================\n",
            "Total params: 1,275,754\n",
            "Trainable params: 1,275,754\n",
            "Non-trainable params: 0\n",
            "_________________________________________________________________\n"
          ]
        }
      ]
    },
    {
      "cell_type": "code",
      "source": [
        "#Run Model 2 with 10 epochs, as accuracy highly differes with more than 10 epochs.\n",
        "hist_model_2=eval(model_2, X_train, X_test, y_train, y_test, 10)"
      ],
      "metadata": {
        "colab": {
          "base_uri": "https://localhost:8080/"
        },
        "id": "Os2Cu5gn5bOl",
        "outputId": "608c10cf-58cd-449f-c5d9-4937a15b400d"
      },
      "execution_count": 22,
      "outputs": [
        {
          "output_type": "stream",
          "name": "stdout",
          "text": [
            "Epoch 1/10\n",
            "313/313 [==============================] - 3s 6ms/step - loss: 1.7610 - accuracy: 0.3488 - val_loss: 1.5302 - val_accuracy: 0.4405\n",
            "Epoch 2/10\n",
            "313/313 [==============================] - 2s 5ms/step - loss: 1.4244 - accuracy: 0.4792 - val_loss: 1.3531 - val_accuracy: 0.5090\n",
            "Epoch 3/10\n",
            "313/313 [==============================] - 2s 5ms/step - loss: 1.2324 - accuracy: 0.5604 - val_loss: 1.2995 - val_accuracy: 0.5390\n",
            "Epoch 4/10\n",
            "313/313 [==============================] - 2s 5ms/step - loss: 1.0763 - accuracy: 0.6246 - val_loss: 1.1763 - val_accuracy: 0.5810\n",
            "Epoch 5/10\n",
            "313/313 [==============================] - 2s 5ms/step - loss: 0.9253 - accuracy: 0.6777 - val_loss: 1.2006 - val_accuracy: 0.5745\n",
            "Epoch 6/10\n",
            "313/313 [==============================] - 2s 5ms/step - loss: 0.7841 - accuracy: 0.7241 - val_loss: 1.1282 - val_accuracy: 0.6120\n",
            "Epoch 7/10\n",
            "313/313 [==============================] - 2s 5ms/step - loss: 0.6262 - accuracy: 0.7837 - val_loss: 1.1539 - val_accuracy: 0.6220\n",
            "Epoch 8/10\n",
            "313/313 [==============================] - 2s 5ms/step - loss: 0.4677 - accuracy: 0.8361 - val_loss: 1.2446 - val_accuracy: 0.6245\n",
            "Epoch 9/10\n",
            "313/313 [==============================] - 2s 5ms/step - loss: 0.3275 - accuracy: 0.8946 - val_loss: 1.4653 - val_accuracy: 0.6140\n",
            "Epoch 10/10\n",
            "313/313 [==============================] - 2s 5ms/step - loss: 0.2213 - accuracy: 0.9311 - val_loss: 1.5855 - val_accuracy: 0.6295\n",
            "Loss:  1.5854624509811401\n",
            "Accuracy:  0.6294999718666077\n",
            "Training time: 0:00:17.269160\n"
          ]
        }
      ]
    },
    {
      "cell_type": "code",
      "source": [
        "#Visualize the model_2 performance\n",
        "vis(hist_model_2)"
      ],
      "metadata": {
        "colab": {
          "base_uri": "https://localhost:8080/",
          "height": 350
        },
        "id": "2aFeOQGcTWZl",
        "outputId": "368d1aa8-e5d9-4903-c127-7a958d1ce353"
      },
      "execution_count": 23,
      "outputs": [
        {
          "output_type": "display_data",
          "data": {
            "text/plain": [
              "<Figure size 720x360 with 2 Axes>"
            ],
            "image/png": "[encoded data removed]"
          },
          "metadata": {
            "needs_background": "light"
          }
        }
      ]
    },
    {
      "cell_type": "markdown",
      "source": [
        "Increasing the complexity of the model improves model accuracy, however, model validation loss increases after 7 epochs. Also, validation accuracy of the model does not change after 5 epochs, though train accuracy does, showing overfitting. Lets fix this on the next model."
      ],
      "metadata": {
        "id": "Nj9463CnTyYU"
      }
    },
    {
      "cell_type": "markdown",
      "source": [
        "## Model 3 - Adding L2 Regularizaton, bias, and Dropout Layers to Reduce Overfitting\n",
        "\n",
        "In an attempt to increase the performance and reduce overfitting, l2 regularizaton and dropout is added in classificaiton layer in Model 3. \n",
        "\n",
        "Model 3 consits of Conv2D->Conv2D->Maxpooling->Conv2D->Conv2D->Maxpooling->Flatten->Dense"
      ],
      "metadata": {
        "id": "7BihiQZ_URqG"
      }
    },
    {
      "cell_type": "code",
      "source": [
        "#Add Conv Layers\n",
        "conv_layers3=[\n",
        "  Conv2D(filters=filter,kernel_size=kernel, padding='same',\n",
        "                 input_shape=X_train.shape[1:], kernel_regularizer =tf.keras.regularizers.l2( l=0.001), use_bias=True),\n",
        "  Activation('relu'),\n",
        "  Conv2D(filters=filter,kernel_size=kernel, use_bias=True),\n",
        "  Activation('relu'),\n",
        "  MaxPooling2D(),\n",
        "\n",
        "  Conv2D(64, (3, 3), padding='same', use_bias=True),\n",
        "  Activation('relu'),\n",
        "  Conv2D(64, (3, 3),kernel_regularizer =tf.keras.regularizers.l2( l=0.001), use_bias=True),\n",
        "  Activation('relu'),\n",
        "  MaxPooling2D(),\n",
        "  Dropout(0.25),\n",
        "  Flatten(),\n",
        "  ]\n",
        "\n",
        "#Set classification layers\n",
        "class_layers3=[\n",
        "    Dense(512, activation='relu'),\n",
        "    Dropout(0.5),\n",
        "    Dense(256, activation='relu'),\n",
        "    Dense(128, activation='relu'),\n",
        "    Dense(10, activation='softmax') #Final output is 10 because we have 10 classes.   \n",
        "]"
      ],
      "metadata": {
        "id": "bF7pKq8HaxX4"
      },
      "execution_count": 24,
      "outputs": []
    },
    {
      "cell_type": "code",
      "source": [
        "#Check summary for model 3\n",
        "model_3=Sequential(conv_layers3+class_layers3)\n",
        "model_3.summary()"
      ],
      "metadata": {
        "colab": {
          "base_uri": "https://localhost:8080/"
        },
        "id": "CS8Zk_QNbxa2",
        "outputId": "d9c2a673-df32-422f-e788-8b93c59d125a"
      },
      "execution_count": 25,
      "outputs": [
        {
          "output_type": "stream",
          "name": "stdout",
          "text": [
            "Model: \"sequential_2\"\n",
            "_________________________________________________________________\n",
            " Layer (type)                Output Shape              Param #   \n",
            "=================================================================\n",
            " conv2d_4 (Conv2D)           (None, 32, 32, 32)        896       \n",
            "                                                                 \n",
            " activation_4 (Activation)   (None, 32, 32, 32)        0         \n",
            "                                                                 \n",
            " conv2d_5 (Conv2D)           (None, 30, 30, 32)        9248      \n",
            "                                                                 \n",
            " activation_5 (Activation)   (None, 30, 30, 32)        0         \n",
            "                                                                 \n",
            " max_pooling2d_3 (MaxPooling  (None, 15, 15, 32)       0         \n",
            " 2D)                                                             \n",
            "                                                                 \n",
            " conv2d_6 (Conv2D)           (None, 15, 15, 64)        18496     \n",
            "                                                                 \n",
            " activation_6 (Activation)   (None, 15, 15, 64)        0         \n",
            "                                                                 \n",
            " conv2d_7 (Conv2D)           (None, 13, 13, 64)        36928     \n",
            "                                                                 \n",
            " activation_7 (Activation)   (None, 13, 13, 64)        0         \n",
            "                                                                 \n",
            " max_pooling2d_4 (MaxPooling  (None, 6, 6, 64)         0         \n",
            " 2D)                                                             \n",
            "                                                                 \n",
            " dropout (Dropout)           (None, 6, 6, 64)          0         \n",
            "                                                                 \n",
            " flatten_2 (Flatten)         (None, 2304)              0         \n",
            "                                                                 \n",
            " dense_5 (Dense)             (None, 512)               1180160   \n",
            "                                                                 \n",
            " dropout_1 (Dropout)         (None, 512)               0         \n",
            "                                                                 \n",
            " dense_6 (Dense)             (None, 256)               131328    \n",
            "                                                                 \n",
            " dense_7 (Dense)             (None, 128)               32896     \n",
            "                                                                 \n",
            " dense_8 (Dense)             (None, 10)                1290      \n",
            "                                                                 \n",
            "=================================================================\n",
            "Total params: 1,411,242\n",
            "Trainable params: 1,411,242\n",
            "Non-trainable params: 0\n",
            "_________________________________________________________________\n"
          ]
        }
      ]
    },
    {
      "cell_type": "code",
      "source": [
        "#Evaluate model 3 for 10 epochs\n",
        "hist_model_3=eval(model_3, X_train, X_test, y_train, y_test, 10)"
      ],
      "metadata": {
        "colab": {
          "base_uri": "https://localhost:8080/"
        },
        "id": "FceKnywnbxNw",
        "outputId": "debc5375-e219-40c4-af8d-8f248e49a119"
      },
      "execution_count": 26,
      "outputs": [
        {
          "output_type": "stream",
          "name": "stdout",
          "text": [
            "Epoch 1/10\n",
            "313/313 [==============================] - 3s 7ms/step - loss: 2.0191 - accuracy: 0.2522 - val_loss: 1.7995 - val_accuracy: 0.3640\n",
            "Epoch 2/10\n",
            "313/313 [==============================] - 2s 6ms/step - loss: 1.6404 - accuracy: 0.3975 - val_loss: 1.4677 - val_accuracy: 0.5005\n",
            "Epoch 3/10\n",
            "313/313 [==============================] - 2s 6ms/step - loss: 1.4530 - accuracy: 0.4683 - val_loss: 1.4211 - val_accuracy: 0.4960\n",
            "Epoch 4/10\n",
            "313/313 [==============================] - 2s 6ms/step - loss: 1.3401 - accuracy: 0.5197 - val_loss: 1.2567 - val_accuracy: 0.5540\n",
            "Epoch 5/10\n",
            "313/313 [==============================] - 2s 6ms/step - loss: 1.2418 - accuracy: 0.5616 - val_loss: 1.2820 - val_accuracy: 0.5510\n",
            "Epoch 6/10\n",
            "313/313 [==============================] - 2s 6ms/step - loss: 1.1524 - accuracy: 0.5942 - val_loss: 1.1799 - val_accuracy: 0.5990\n",
            "Epoch 7/10\n",
            "313/313 [==============================] - 2s 6ms/step - loss: 1.0792 - accuracy: 0.6289 - val_loss: 1.1100 - val_accuracy: 0.6210\n",
            "Epoch 8/10\n",
            "313/313 [==============================] - 2s 6ms/step - loss: 0.9815 - accuracy: 0.6578 - val_loss: 1.1829 - val_accuracy: 0.5990\n",
            "Epoch 9/10\n",
            "313/313 [==============================] - 2s 6ms/step - loss: 0.9224 - accuracy: 0.6884 - val_loss: 1.0696 - val_accuracy: 0.6310\n",
            "Epoch 10/10\n",
            "313/313 [==============================] - 2s 6ms/step - loss: 0.8359 - accuracy: 0.7181 - val_loss: 1.0233 - val_accuracy: 0.6555\n",
            "Loss:  1.0232713222503662\n",
            "Accuracy:  0.6554999947547913\n",
            "Training time: 0:00:19.586278\n"
          ]
        }
      ]
    },
    {
      "cell_type": "code",
      "source": [
        "#Visualize the model_3 performance\n",
        "vis(hist_model_3)"
      ],
      "metadata": {
        "colab": {
          "base_uri": "https://localhost:8080/",
          "height": 350
        },
        "id": "2z7xl_OItWsL",
        "outputId": "a88fe0a4-50ef-42f0-a26f-29c85a21ddd5"
      },
      "execution_count": 27,
      "outputs": [
        {
          "output_type": "display_data",
          "data": {
            "text/plain": [
              "<Figure size 720x360 with 2 Axes>"
            ],
            "image/png": "[encoded data removed]"
          },
          "metadata": {
            "needs_background": "light"
          }
        }
      ]
    },
    {
      "cell_type": "markdown",
      "source": [
        "Adding extra Conv2D layer, L2 regularization, bias term, and dropout layers increased performance of the model and prevented overfitting, but there is still a little bit of overfitting left. To fix this, further techniques as image augmentation can be utalized. \n",
        "\n",
        "Based on the data, validation loss slows down around 10 epoch, and it really diviates from the train loss, so 10 epochs is good stopping point.\n",
        "\n",
        "Model 3 performance is better than previous models, with only training time of 17s. This is a great improvement. Now lets compare how tranfer learning will perform in comparison. "
      ],
      "metadata": {
        "id": "Yxhfs0ZUI7cI"
      }
    },
    {
      "cell_type": "markdown",
      "metadata": {
        "id": "7DOX-hgcM3Ma"
      },
      "source": [
        "## Transfer Learning\n",
        "\n",
        "Using the model, \"tf2-preview/mobilenet_v2/classification\" from Tensorflow Hub. This model is a pre-trained model for image classification tasks with an input size of 224x224 pixels. Therefore, the cifar10 dataset will be resized to 224x224 from 32x32 to fit the data into this pre-trained model."
      ]
    },
    {
      "cell_type": "code",
      "execution_count": 28,
      "metadata": {
        "id": "gL73eUum-qSY"
      },
      "outputs": [],
      "source": [
        "#Import the necessary library to load the model\n",
        "import tensorflow_hub as hub\n",
        "\n",
        "#Load the pre-trained model and set the trainable='False' to freeze its weights. \n",
        "data_shape=(224,224) #Image shape used to train the pre-trained model.\n",
        "pre_trained_model = tf.keras.Sequential([ \n",
        "    hub.KerasLayer(\"https://tfhub.dev/google/tf2-preview/mobilenet_v2/classification/4\", input_shape=data_shape+(3,), trainable=False)])"
      ]
    },
    {
      "cell_type": "code",
      "execution_count": 29,
      "metadata": {
        "id": "tCGBhXTKkFhL"
      },
      "outputs": [],
      "source": [
        "#Resize all training data into a new array\n",
        "\n",
        "X_train_pretrained=[]\n",
        "\n",
        "for i in range(len(X_train)):\n",
        "  train_sized=cv2.resize(np.array(X_train[i]), data_shape)\n",
        "  X_train_pretrained.append(train_sized)"
      ]
    },
    {
      "cell_type": "code",
      "execution_count": 30,
      "metadata": {
        "id": "OxTFgFoXj0rI"
      },
      "outputs": [],
      "source": [
        "#Resize the test data \n",
        "X_test_pretrained=[]\n",
        "\n",
        "for j in range(len(X_test)):\n",
        "  test_sized=cv2.resize(np.array(X_test[j]), data_shape)\n",
        "  X_test_pretrained.append(test_sized)"
      ]
    },
    {
      "cell_type": "code",
      "execution_count": 31,
      "metadata": {
        "id": "IkEJgefxeLSQ"
      },
      "outputs": [],
      "source": [
        "#Turn X_test_pretrained and X_train_pretrained to an array\n",
        "X_train_pretrained=np.array(X_train_pretrained)\n",
        "X_test_pretrained=np.array(X_test_pretrained)"
      ]
    },
    {
      "cell_type": "code",
      "execution_count": 32,
      "metadata": {
        "colab": {
          "base_uri": "https://localhost:8080/"
        },
        "id": "J9R4meCr6hS-",
        "outputId": "0d4cafb2-0c87-4787-ca27-3ac4275bd781"
      },
      "outputs": [
        {
          "output_type": "stream",
          "name": "stdout",
          "text": [
            "(10000, 224, 224, 3)\n",
            "(2000, 224, 224, 3)\n"
          ]
        }
      ],
      "source": [
        "#Confirm their sizes\n",
        "print(X_train_pretrained.shape)\n",
        "print(X_test_pretrained.shape)"
      ]
    },
    {
      "cell_type": "code",
      "execution_count": 33,
      "metadata": {
        "id": "FjN8yzJuahAl"
      },
      "outputs": [],
      "source": [
        "#Define final model\n",
        "transfer_model=Sequential()\n",
        "transfer_model.add(pre_trained_model) #Add the pre-trained model with trainable set to False\n",
        "transfer_model.add(Dense(10, activation='softmax')) #Final output is 10 because we have 10 classes.\n"
      ]
    },
    {
      "cell_type": "code",
      "execution_count": 34,
      "metadata": {
        "colab": {
          "base_uri": "https://localhost:8080/"
        },
        "id": "wlOQEknRbIg4",
        "outputId": "13383563-8f29-4d9d-e47f-a82122d06eff"
      },
      "outputs": [
        {
          "output_type": "stream",
          "name": "stdout",
          "text": [
            "Model: \"sequential_4\"\n",
            "_________________________________________________________________\n",
            " Layer (type)                Output Shape              Param #   \n",
            "=================================================================\n",
            " sequential_3 (Sequential)   (None, 1001)              3540265   \n",
            "                                                                 \n",
            " dense_9 (Dense)             (None, 10)                10020     \n",
            "                                                                 \n",
            "=================================================================\n",
            "Total params: 3,550,285\n",
            "Trainable params: 10,020\n",
            "Non-trainable params: 3,540,265\n",
            "_________________________________________________________________\n"
          ]
        }
      ],
      "source": [
        "transfer_model.summary()"
      ]
    },
    {
      "cell_type": "code",
      "execution_count": 35,
      "metadata": {
        "colab": {
          "base_uri": "https://localhost:8080/"
        },
        "id": "oqPkJVOocrng",
        "outputId": "f123259d-2d4c-4550-ebab-0583b568cb93"
      },
      "outputs": [
        {
          "output_type": "stream",
          "name": "stdout",
          "text": [
            "Epoch 1/5\n",
            "313/313 [==============================] - 21s 53ms/step - loss: 1.0122 - accuracy: 0.6686 - val_loss: 0.6657 - val_accuracy: 0.7730\n",
            "Epoch 2/5\n",
            "313/313 [==============================] - 15s 48ms/step - loss: 0.5579 - accuracy: 0.8097 - val_loss: 0.5954 - val_accuracy: 0.7965\n",
            "Epoch 3/5\n",
            "313/313 [==============================] - 15s 49ms/step - loss: 0.4895 - accuracy: 0.8334 - val_loss: 0.5666 - val_accuracy: 0.8045\n",
            "Epoch 4/5\n",
            "313/313 [==============================] - 15s 49ms/step - loss: 0.4473 - accuracy: 0.8433 - val_loss: 0.5406 - val_accuracy: 0.8205\n",
            "Epoch 5/5\n",
            "313/313 [==============================] - 15s 49ms/step - loss: 0.4241 - accuracy: 0.8522 - val_loss: 0.5487 - val_accuracy: 0.8135\n",
            "Loss:  0.5487299561500549\n",
            "Accuracy:  0.8134999871253967\n",
            "Training time: 0:01:29.847449\n"
          ]
        }
      ],
      "source": [
        "hist_transfer_model=eval(transfer_model, X_train_pretrained, X_test_pretrained, y_train, y_test, 5)"
      ]
    },
    {
      "cell_type": "code",
      "source": [
        "#Visualize performance of transfer model\n",
        "vis(hist_transfer_model)"
      ],
      "metadata": {
        "colab": {
          "base_uri": "https://localhost:8080/",
          "height": 350
        },
        "id": "TnwEoOU7kgo6",
        "outputId": "d5bb4e07-247b-49c2-dfa6-bfe52a73a8fc"
      },
      "execution_count": 36,
      "outputs": [
        {
          "output_type": "display_data",
          "data": {
            "text/plain": [
              "<Figure size 720x360 with 2 Axes>"
            ],
            "image/png": "[encoded data removed]"
          },
          "metadata": {
            "needs_background": "light"
          }
        }
      ]
    },
    {
      "cell_type": "markdown",
      "source": [
        "The performance of the transfer model is much higher than all the others but it does take longer to process, 90 seconds. This can be reduced by running the model only for 2 epochs, where the validation loss and accuracy begins to stagnate. "
      ],
      "metadata": {
        "id": "wqBC3mwvyiGp"
      }
    },
    {
      "cell_type": "code",
      "source": [
        "# Graphing the final accuracies of the models\n",
        "data_vis=pd.DataFrame({'Model':['Model 1','Model 2','Model 3','Transfer Model'], \n",
        "                       'Accuracy':[model_acc[0],model_acc[1],model_acc[2],model_acc[3]]})"
      ],
      "metadata": {
        "id": "oPmZSzTurBVy"
      },
      "execution_count": 37,
      "outputs": []
    },
    {
      "cell_type": "code",
      "source": [
        "data_vis"
      ],
      "metadata": {
        "colab": {
          "base_uri": "https://localhost:8080/",
          "height": 175
        },
        "id": "xC9mloBFDh6d",
        "outputId": "59bba262-b8e5-4283-ec2e-7299e9f8a254"
      },
      "execution_count": 38,
      "outputs": [
        {
          "output_type": "execute_result",
          "data": {
            "text/plain": [
              "            Model  Accuracy\n",
              "0         Model 1    0.5800\n",
              "1         Model 2    0.6295\n",
              "2         Model 3    0.6555\n",
              "3  Transfer Model    0.8135"
            ],
            "text/html": [
              "\n",
              "  <div id=\"df-6151071c-2b1a-47cf-b7cd-9057dd00a952\">\n",
              "    <div class=\"colab-df-container\">\n",
              "      <div>\n",
              "<style scoped>\n",
              "    .dataframe tbody tr th:only-of-type {\n",
              "        vertical-align: middle;\n",
              "    }\n",
              "\n",
              "    .dataframe tbody tr th {\n",
              "        vertical-align: top;\n",
              "    }\n",
              "\n",
              "    .dataframe thead th {\n",
              "        text-align: right;\n",
              "    }\n",
              "</style>\n",
              "<table border=\"1\" class=\"dataframe\">\n",
              "  <thead>\n",
              "    <tr style=\"text-align: right;\">\n",
              "      <th></th>\n",
              "      <th>Model</th>\n",
              "      <th>Accuracy</th>\n",
              "    </tr>\n",
              "  </thead>\n",
              "  <tbody>\n",
              "    <tr>\n",
              "      <th>0</th>\n",
              "      <td>Model 1</td>\n",
              "      <td>0.5800</td>\n",
              "    </tr>\n",
              "    <tr>\n",
              "      <th>1</th>\n",
              "      <td>Model 2</td>\n",
              "      <td>0.6295</td>\n",
              "    </tr>\n",
              "    <tr>\n",
              "      <th>2</th>\n",
              "      <td>Model 3</td>\n",
              "      <td>0.6555</td>\n",
              "    </tr>\n",
              "    <tr>\n",
              "      <th>3</th>\n",
              "      <td>Transfer Model</td>\n",
              "      <td>0.8135</td>\n",
              "    </tr>\n",
              "  </tbody>\n",
              "</table>\n",
              "</div>\n",
              "      <button class=\"colab-df-convert\" onclick=\"convertToInteractive('df-6151071c-2b1a-47cf-b7cd-9057dd00a952')\"\n",
              "              title=\"Convert this dataframe to an interactive table.\"\n",
              "              style=\"display:none;\">\n",
              "        \n",
              "  <svg xmlns=\"http://www.w3.org/2000/svg\" height=\"24px\"viewBox=\"0 0 24 24\"\n",
              "       width=\"24px\">\n",
              "    <path d=\"M0 0h24v24H0V0z\" fill=\"none\"/>\n",
              "    <path d=\"M18.56 5.44l.94 2.06.94-2.06 2.06-.94-2.06-.94-.94-2.06-.94 2.06-2.06.94zm-11 1L8.5 8.5l.94-2.06 2.06-.94-2.06-.94L8.5 2.5l-.94 2.06-2.06.94zm10 10l.94 2.06.94-2.06 2.06-.94-2.06-.94-.94-2.06-.94 2.06-2.06.94z\"/><path d=\"M17.41 7.96l-1.37-1.37c-.4-.4-.92-.59-1.43-.59-.52 0-1.04.2-1.43.59L10.3 9.45l-7.72 7.72c-.78.78-.78 2.05 0 2.83L4 21.41c.39.39.9.59 1.41.59.51 0 1.02-.2 1.41-.59l7.78-7.78 2.81-2.81c.8-.78.8-2.07 0-2.86zM5.41 20L4 18.59l7.72-7.72 1.47 1.35L5.41 20z\"/>\n",
              "  </svg>\n",
              "      </button>\n",
              "      \n",
              "  <style>\n",
              "    .colab-df-container {\n",
              "      display:flex;\n",
              "      flex-wrap:wrap;\n",
              "      gap: 12px;\n",
              "    }\n",
              "\n",
              "    .colab-df-convert {\n",
              "      background-color: #E8F0FE;\n",
              "      border: none;\n",
              "      border-radius: 50%;\n",
              "      cursor: pointer;\n",
              "      display: none;\n",
              "      fill: #1967D2;\n",
              "      height: 32px;\n",
              "      padding: 0 0 0 0;\n",
              "      width: 32px;\n",
              "    }\n",
              "\n",
              "    .colab-df-convert:hover {\n",
              "      background-color: #E2EBFA;\n",
              "      box-shadow: 0px 1px 2px rgba(60, 64, 67, 0.3), 0px 1px 3px 1px rgba(60, 64, 67, 0.15);\n",
              "      fill: #174EA6;\n",
              "    }\n",
              "\n",
              "    [theme=dark] .colab-df-convert {\n",
              "      background-color: #3B4455;\n",
              "      fill: #D2E3FC;\n",
              "    }\n",
              "\n",
              "    [theme=dark] .colab-df-convert:hover {\n",
              "      background-color: #434B5C;\n",
              "      box-shadow: 0px 1px 3px 1px rgba(0, 0, 0, 0.15);\n",
              "      filter: drop-shadow(0px 1px 2px rgba(0, 0, 0, 0.3));\n",
              "      fill: #FFFFFF;\n",
              "    }\n",
              "  </style>\n",
              "\n",
              "      <script>\n",
              "        const buttonEl =\n",
              "          document.querySelector('#df-6151071c-2b1a-47cf-b7cd-9057dd00a952 button.colab-df-convert');\n",
              "        buttonEl.style.display =\n",
              "          google.colab.kernel.accessAllowed ? 'block' : 'none';\n",
              "\n",
              "        async function convertToInteractive(key) {\n",
              "          const element = document.querySelector('#df-6151071c-2b1a-47cf-b7cd-9057dd00a952');\n",
              "          const dataTable =\n",
              "            await google.colab.kernel.invokeFunction('convertToInteractive',\n",
              "                                                     [key], {});\n",
              "          if (!dataTable) return;\n",
              "\n",
              "          const docLinkHtml = 'Like what you see? Visit the ' +\n",
              "            '<a target=\"_blank\" href=https://colab.research.google.com/notebooks/data_table.ipynb>data table notebook</a>'\n",
              "            + ' to learn more about interactive tables.';\n",
              "          element.innerHTML = '';\n",
              "          dataTable['output_type'] = 'display_data';\n",
              "          await google.colab.output.renderOutput(dataTable, element);\n",
              "          const docLink = document.createElement('div');\n",
              "          docLink.innerHTML = docLinkHtml;\n",
              "          element.appendChild(docLink);\n",
              "        }\n",
              "      </script>\n",
              "    </div>\n",
              "  </div>\n",
              "  "
            ]
          },
          "metadata": {},
          "execution_count": 38
        }
      ]
    },
    {
      "cell_type": "code",
      "source": [
        "plt.title(\"Comparison of Models Performance\")\n",
        "ax = sns.barplot(x=\"Model\", y=\"Accuracy\", data=data_vis)"
      ],
      "metadata": {
        "colab": {
          "base_uri": "https://localhost:8080/",
          "height": 295
        },
        "id": "CmXaD29txaa2",
        "outputId": "98c198d9-8fd2-4059-da5c-b9cfca828092"
      },
      "execution_count": 39,
      "outputs": [
        {
          "output_type": "display_data",
          "data": {
            "text/plain": [
              "<Figure size 432x288 with 1 Axes>"
            ],
            "image/png": "[encoded data removed]"
          },
          "metadata": {
            "needs_background": "light"
          }
        }
      ]
    },
    {
      "cell_type": "markdown",
      "metadata": {
        "id": "ru1PY80xLRFT"
      },
      "source": [
        "Results: Increasing the complexity of the model incrases the accuracy and decreases the number of epoch needed to run to achieve a good performance. For models that overfit, using regularization techniques, dropout, and bias term reduces overfitting. \n",
        "\n",
        "Which model to use? \n",
        "There is a trade-off between accuracy and processing time. If processing time is a concern for the client, model 3 might be better suited. However, because there is not a significant differences between processing times of Model 3 and Transfer Model, I would reccomend using Transfer Model due to its better performance."
      ]
    },
    {
      "cell_type": "markdown",
      "source": [
        "Reccomendations/Suggestions: Data size used was not large enough to train these CNN models, even though data was availabe. The primary reason for the use of limited data was due to the computational insufficiency. Therefore, increasing RAM and memory will allow models to be trained on much higher data, which can increase performance. \n",
        "\n",
        "Other improvements can include using GridSearchCV to find best hyperparameters to increase predictive power, and data augmentation and early stopping techniques to better reduce overfitting. \n"
      ],
      "metadata": {
        "id": "8dzwn8Z4_E7m"
      }
    }
  ],
  "metadata": {
    "accelerator": "GPU",
    "colab": {
      "collapsed_sections": [],
      "machine_shape": "hm",
      "name": "Performance of CNN model vs. Mobilenet_v2 pre-trained model",
      "provenance": []
    },
    "kernelspec": {
      "display_name": "Python 3",
      "name": "python3"
    },
    "language_info": {
      "name": "python"
    }
  },
  "nbformat": 4,
  "nbformat_minor": 0
}